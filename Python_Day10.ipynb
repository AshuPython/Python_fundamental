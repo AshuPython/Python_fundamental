{
 "cells": [
  {
   "cell_type": "code",
   "execution_count": 6,
   "id": "5b0b4a29",
   "metadata": {},
   "outputs": [],
   "source": [
    "def greet():\n",
    "    \"\"\"creating a greet function\"\"\"\n",
    "    print(\"Hello\")"
   ]
  },
  {
   "cell_type": "code",
   "execution_count": 7,
   "id": "b43a2c71",
   "metadata": {},
   "outputs": [
    {
     "name": "stdout",
     "output_type": "stream",
     "text": [
      "Hello\n"
     ]
    }
   ],
   "source": [
    "greet()"
   ]
  },
  {
   "cell_type": "code",
   "execution_count": 8,
   "id": "cfea4051",
   "metadata": {},
   "outputs": [],
   "source": [
    "def justhi():\n",
    "    print(\"Good Morning\")"
   ]
  },
  {
   "cell_type": "code",
   "execution_count": 9,
   "id": "069fb847",
   "metadata": {},
   "outputs": [
    {
     "name": "stdout",
     "output_type": "stream",
     "text": [
      "Good Morning\n"
     ]
    }
   ],
   "source": [
    "justhi()"
   ]
  },
  {
   "cell_type": "code",
   "execution_count": 14,
   "id": "249969a0",
   "metadata": {},
   "outputs": [],
   "source": [
    "def greetuser(username):\n",
    "    print(f\"Hello, {username.title()}\")"
   ]
  },
  {
   "cell_type": "code",
   "execution_count": 17,
   "id": "dfea645b",
   "metadata": {},
   "outputs": [
    {
     "name": "stdout",
     "output_type": "stream",
     "text": [
      "Hello, Atharva\n"
     ]
    }
   ],
   "source": [
    "greetuser('Atharva')"
   ]
  },
  {
   "cell_type": "code",
   "execution_count": null,
   "id": "6ee25851",
   "metadata": {},
   "outputs": [],
   "source": []
  },
  {
   "cell_type": "code",
   "execution_count": 18,
   "id": "6fa8515b",
   "metadata": {},
   "outputs": [],
   "source": [
    "def describe_pet(animaltype,petname):\n",
    "    print(f\"I have a pet {animaltype}\")\n",
    "    print(f\"My pet name is {petname}\")"
   ]
  },
  {
   "cell_type": "code",
   "execution_count": null,
   "id": "4fd3c6c9",
   "metadata": {},
   "outputs": [],
   "source": []
  },
  {
   "cell_type": "code",
   "execution_count": 19,
   "id": "56a27cbf",
   "metadata": {},
   "outputs": [
    {
     "name": "stdout",
     "output_type": "stream",
     "text": [
      "I have a pet dog\n",
      "My pet name is tommy\n"
     ]
    }
   ],
   "source": [
    "describe_pet('dog','tommy')"
   ]
  },
  {
   "cell_type": "code",
   "execution_count": null,
   "id": "8386726c",
   "metadata": {},
   "outputs": [],
   "source": []
  },
  {
   "cell_type": "code",
   "execution_count": 20,
   "id": "12cb38ee",
   "metadata": {},
   "outputs": [
    {
     "name": "stdout",
     "output_type": "stream",
     "text": [
      "I have a pet fish\n",
      "My pet name is sharky\n"
     ]
    }
   ],
   "source": [
    "describe_pet(petname='sharky', animaltype='fish')"
   ]
  },
  {
   "cell_type": "code",
   "execution_count": null,
   "id": "3f3f326c",
   "metadata": {},
   "outputs": [],
   "source": []
  },
  {
   "cell_type": "code",
   "execution_count": 22,
   "id": "7b4d0078",
   "metadata": {},
   "outputs": [],
   "source": [
    "def describe_pet(petname, animaltype = 'dog'):\n",
    "    print(f\"I have a pet {animaltype}\")\n",
    "    print(f\"My {animaltype}'s name is {petname}\")"
   ]
  },
  {
   "cell_type": "code",
   "execution_count": 23,
   "id": "3a09c60b",
   "metadata": {},
   "outputs": [
    {
     "name": "stdout",
     "output_type": "stream",
     "text": [
      "I have a pet dog\n",
      "My dog's name is bruno\n"
     ]
    }
   ],
   "source": [
    "describe_pet('bruno')"
   ]
  },
  {
   "cell_type": "code",
   "execution_count": null,
   "id": "46d1fa75",
   "metadata": {},
   "outputs": [],
   "source": []
  },
  {
   "cell_type": "code",
   "execution_count": null,
   "id": "d70cd92e",
   "metadata": {},
   "outputs": [],
   "source": []
  },
  {
   "cell_type": "code",
   "execution_count": null,
   "id": "2b9845e7",
   "metadata": {},
   "outputs": [],
   "source": []
  }
 ],
 "metadata": {
  "kernelspec": {
   "display_name": "Python 3",
   "language": "python",
   "name": "python3"
  },
  "language_info": {
   "codemirror_mode": {
    "name": "ipython",
    "version": 3
   },
   "file_extension": ".py",
   "mimetype": "text/x-python",
   "name": "python",
   "nbconvert_exporter": "python",
   "pygments_lexer": "ipython3",
   "version": "3.8.8"
  }
 },
 "nbformat": 4,
 "nbformat_minor": 5
}
